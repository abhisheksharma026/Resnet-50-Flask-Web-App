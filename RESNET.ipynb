{
 "cells": [
  {
   "cell_type": "code",
   "execution_count": null,
   "metadata": {},
   "outputs": [],
   "source": [
    "# https://www.kaggle.com/keras/resnet50\n",
    "import sys\n",
    "import os\n",
    "import glob\n",
    "import re\n",
    "import numpy as np\n",
    "\n",
    "from keras.applications.imagenet_utils import preprocess_input, decode_predictions\n",
    "from keras.models import load_model\n",
    "from keras.preprocessing import image"
   ]
  },
  {
   "cell_type": "code",
   "execution_count": null,
   "metadata": {},
   "outputs": [],
   "source": [
    "from keras.applications.resnet50 import ResNet50\n",
    "model = ResNet50(weights='imagenet')\n",
    "model.save('resnet50.h5')"
   ]
  },
  {
   "cell_type": "code",
   "execution_count": null,
   "metadata": {},
   "outputs": [],
   "source": [
    "model.summary()"
   ]
  },
  {
   "cell_type": "code",
   "execution_count": null,
   "metadata": {},
   "outputs": [],
   "source": [
    "import matplotlib.pyplot as plt\n",
    "%matplotlib inline"
   ]
  },
  {
   "cell_type": "code",
   "execution_count": null,
   "metadata": {},
   "outputs": [],
   "source": [
    "from keras.preprocessing.image import load_img\n",
    "# load an image from file\n",
    "image = load_img(r'C:\\Users\\Abhishek\\Desktop\\Files\\dog.jpg', target_size=(224, 224))"
   ]
  },
  {
   "cell_type": "code",
   "execution_count": null,
   "metadata": {},
   "outputs": [],
   "source": [
    "from keras.preprocessing.image import img_to_array\n",
    "\n",
    "image = img_to_array(image)\n",
    "plt.imshow(image/255.)\n",
    "plt.show()"
   ]
  },
  {
   "cell_type": "code",
   "execution_count": null,
   "metadata": {},
   "outputs": [],
   "source": [
    "image = image.reshape((1, image.shape[0], image.shape[1], image.shape[2]))\n",
    "print(image.shape)"
   ]
  },
  {
   "cell_type": "code",
   "execution_count": null,
   "metadata": {},
   "outputs": [],
   "source": [
    "predictions = model.predict(image)\n",
    " \n",
    "# convert the probabilities to class labels\n",
    "label = decode_predictions(predictions)"
   ]
  },
  {
   "cell_type": "code",
   "execution_count": null,
   "metadata": {},
   "outputs": [],
   "source": [
    "print(label[0][0][1])"
   ]
  },
  {
   "cell_type": "code",
   "execution_count": null,
   "metadata": {},
   "outputs": [],
   "source": [
    "image = load_img(r'C:\\Users\\Abhishek\\Desktop\\Files\\bear.jpg', target_size=(224, 224))\n",
    "image = img_to_array(image)\n",
    "plt.imshow(image/255.)\n",
    "plt.show()"
   ]
  },
  {
   "cell_type": "code",
   "execution_count": null,
   "metadata": {},
   "outputs": [],
   "source": [
    "image = image.reshape((1, image.shape[0], image.shape[1], image.shape[2]))\n",
    "predictions = model.predict(image)\n",
    "label = decode_predictions(predictions)\n",
    "print(label[0][0][1])"
   ]
  },
  {
   "cell_type": "code",
   "execution_count": null,
   "metadata": {},
   "outputs": [],
   "source": [
    "image = load_img(r'C:\\Users\\Abhishek\\Desktop\\Files\\car.jpg', target_size=(224, 224))\n",
    "image = img_to_array(image)\n",
    "plt.imshow(image/255.)\n",
    "plt.show()"
   ]
  },
  {
   "cell_type": "code",
   "execution_count": null,
   "metadata": {},
   "outputs": [],
   "source": [
    "image = image.reshape((1, image.shape[0], image.shape[1], image.shape[2]))\n",
    "predictions = model.predict(image)\n",
    "label = decode_predictions(predictions)\n",
    "print(label[0][0][1])"
   ]
  },
  {
   "cell_type": "code",
   "execution_count": null,
   "metadata": {},
   "outputs": [],
   "source": [
    "image = load_img(r'C:\\Users\\Abhishek\\Desktop\\Files\\parrot.jpg', target_size=(224, 224))\n",
    "image = img_to_array(image)\n",
    "plt.imshow(image/255.)\n",
    "plt.show()"
   ]
  },
  {
   "cell_type": "code",
   "execution_count": null,
   "metadata": {},
   "outputs": [],
   "source": [
    "image = image.reshape((1, image.shape[0], image.shape[1], image.shape[2]))\n",
    "predictions = model.predict(image)\n",
    "label = decode_predictions(predictions)\n",
    "print(label[0][0][1])"
   ]
  },
  {
   "cell_type": "code",
   "execution_count": null,
   "metadata": {
    "scrolled": true
   },
   "outputs": [],
   "source": [
    "from flask import Flask, redirect, url_for, request, render_template, flash, send_from_directory\n",
    "from werkzeug.utils import secure_filename\n",
    "from flask_uploads import UploadSet, configure_uploads, IMAGES, DATA, ALL\n",
    "\n",
    "app = Flask(__name__ )\n",
    "app.config['SECRET_KEY'] = 'secret'\n",
    "APP_ROOT = os.path.dirname(os.path.abspath(\"__file__\"))\n",
    "ALLOWED_EXTENSIONS = set(['png', 'jpg', 'jpeg', 'gif'])\n",
    "\n",
    "# Helper Function\n",
    "def allowed_file(filename):\n",
    "    return '.' in filename and filename.rsplit('.',1)[1].lower() in ALLOWED_EXTENSIONS\n",
    "\n",
    "@app.route('/')\n",
    "def index():\n",
    "    return render_template(\"index.html\")\n",
    "\n",
    "@app.route('/redirecthome')\n",
    "def home_redirect():\n",
    "    return redirect(url_for('index'))\n",
    "\n",
    "@app.route('/upload', methods = ['GET','POST'])        \n",
    "def upload_file():\n",
    "    target = os.path.join(APP_ROOT, 'static\\\\images\\\\')\n",
    "    print(target)\n",
    "    if not os.path.isdir(target):\n",
    "        os.mkdir(target)\n",
    "    if request.method == 'POST' and 'data' in request.files:\n",
    "        file = request.files['data']\n",
    "        global filename\n",
    "        filename = secure_filename(file.filename)\n",
    "        \n",
    "        if 'file' and allowed_file(file.filename):\n",
    "            global destination\n",
    "            destination = \"\\\\\".join([target, filename])\n",
    "            file.save(destination)\n",
    "            flash('Image uploaded successfully')\n",
    "        else:\n",
    "            flash('Unsupported Type')\n",
    "    else:\n",
    "        flash(\"No Image file selected for uploading\")\n",
    "    return render_template(\"upload.html\")\n",
    "\n",
    "\n",
    "@app.route('/prediction', methods = ['GET','POST'])\n",
    "def prediction():\n",
    "    ext = filename.rsplit('.',1)[1].lower()\n",
    "    if ext == 'jpg' or ext == 'png' or ext == 'jpeg':\n",
    "        uploaded_img = load_img(destination, target_size=(224, 224))\n",
    "        image = img_to_array(uploaded_img)\n",
    "        image = image.reshape((1, image.shape[0], image.shape[1], image.shape[2]))\n",
    "        predictions = model.predict(image)\n",
    "        label = decode_predictions(predictions)\n",
    "        pred = label[0][0][1]\n",
    "        return render_template('predict.html', pred = pred, image_name = filename)\n",
    "        \n",
    "@app.route('/upload/<filename>')\n",
    "def send_image(filename):\n",
    "    return send_from_directory(\"static/images\", filename)\n",
    "\n",
    "if __name__ == \"__main__\":\n",
    "    app.run(debug= True, use_reloader=False, port = 8000, threaded=False)"
   ]
  }
 ],
 "metadata": {
  "kernelspec": {
   "display_name": "tf_gpu",
   "language": "python",
   "name": "tf_gpu"
  },
  "language_info": {
   "codemirror_mode": {
    "name": "ipython",
    "version": 3
   },
   "file_extension": ".py",
   "mimetype": "text/x-python",
   "name": "python",
   "nbconvert_exporter": "python",
   "pygments_lexer": "ipython3",
   "version": "3.7.3"
  }
 },
 "nbformat": 4,
 "nbformat_minor": 2
}
